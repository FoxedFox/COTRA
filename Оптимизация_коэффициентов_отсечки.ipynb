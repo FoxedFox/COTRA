{
  "nbformat": 4,
  "nbformat_minor": 0,
  "metadata": {
    "colab": {
      "name": "Оптимизация коэффициентов отсечки.ipynb",
      "provenance": [],
      "collapsed_sections": [],
      "authorship_tag": "ABX9TyOBD6EvS9QHZG6bXvBuo8VX",
      "include_colab_link": true
    },
    "kernelspec": {
      "display_name": "Python 3",
      "name": "python3"
    }
  },
  "cells": [
    {
      "cell_type": "markdown",
      "metadata": {
        "id": "view-in-github",
        "colab_type": "text"
      },
      "source": [
        "<a href=\"https://colab.research.google.com/github/ForestTiger-GH/COTRA/blob/main/%D0%9E%D0%BF%D1%82%D0%B8%D0%BC%D0%B8%D0%B7%D0%B0%D1%86%D0%B8%D1%8F_%D0%BA%D0%BE%D1%8D%D1%84%D1%84%D0%B8%D1%86%D0%B8%D0%B5%D0%BD%D1%82%D0%BE%D0%B2_%D0%BE%D1%82%D1%81%D0%B5%D1%87%D0%BA%D0%B8.ipynb\" target=\"_parent\"><img src=\"https://colab.research.google.com/assets/colab-badge.svg\" alt=\"Open In Colab\"/></a>"
      ]
    },
    {
      "cell_type": "code",
      "metadata": {
        "id": "JecyZaiYTKVw"
      },
      "source": [
        "import numpy as np\r\n",
        "import pylab as plb\r\n",
        "from scipy.stats import linregress"
      ],
      "execution_count": 185,
      "outputs": []
    },
    {
      "cell_type": "code",
      "metadata": {
        "id": "iu_6kn3cSBs3"
      },
      "source": [
        "mysample = [\r\n",
        "([-0.01, -0.3, -0.01, 0, -0.03, 0.07, -0.13, 0, -0.04, -0.01, -0.01, -0.02, -0.22, 0.03, 0.26, 0.06, 0.02, 0, 0.07, -0.49, 0.14, 0, 0.1, 0, -0.3, 0.05, -0.04], 10),\r\n",
        "([0, -0.26, -0.01, 0, 0, 0.05, -0.05, 0.02, 0, 0.03, 0.01, -0.24, 0.11, -0.01, -0.08, 0.02, 0.04, -0.11, 0, -0.16, 0.03, 0.01, -0.05, 0.07, -0.26, 0.11, 0.04], 4),\r\n",
        "([-0.04, 2.01, -0.02, -0.05, -0.07, -0.18, 0.07, -0.11, 0.01, -0.01, -0.01, -0.01, 0.17, -0.08, -1.86, -0.22, 0.1, -0.1, -0.03, -2.47, 0.06, -0.16, 0.04, -0.09, 2.01, -0.24, 0.05], 23),\r\n",
        "([-0.01, 0.06, 0, -0.01, -0.02, -0.03, 0, -0.02, 0.04, -0.01, 0.02, 0.51, -0.03, -0.05, 0.24, -0.07, -0.03, -0.04, 0, 0.14, 0.01, -0.01, 0, -0.07, 0.06, -0.1, -0.04], 24),\r\n",
        "([-0.07, -0.02, -0.08, -0.09, -0.06, -0.02, -0.1, -0.05, -0.06, 0.05, 0.01, -0.39, -0.26, -0.02, 0, 0, 0, -0.09, -0.21, -1.89, -0.36, -0.08, -0.17, 0.01, -0.02, 0.03, 0.01], 23),\r\n",
        "([0.04, -0.19, 0.04, 0.05, 0.1, 0.27, -0.1, 0.16, -0.01, 0.03, 0.01, -0.27, -0.05, 0.1, -2.14, 0.33, -0.14, 0.22, -0.01, 0.11, 0.04, 0.05, -0.15, 0.02, -0.19, 0.09, -0.02], 4),\r\n",
        "([0, -0.05, 0, 0.01, 0.01, 0.04, -0.03, 0.03, 0, -0.02, 0, 0.26, -0.04, -0.01, 0.51, 0.04, -0.08, -0.02, 0.02, -0.26, 0.03, -0.02, 0.06, -0.06, -0.05, -0.06, -0.06], 5),\r\n",
        "([0, -0.07, 0, 0, 0, 0.02, -0.02, 0.01, 0.01, -0.01, 0, 0.1, 0.05, -0.01, -0.02, -0.02, -0.03, 0.03, -0.02, -0.72, 0.04, -0.07, -0.02, 0.03, -0.07, 0.06, 0.02], 0),\r\n",
        "([0.02, -0.08, 0.02, 0.02, 0.02, 0.05, -0.02, 0.03, 0.01, 0.01, 0.01, 0.02, -0.01, 0.02, 0.32, 0.06, -0.04, 0.04, 0.03, 0.36, 0.03, 0.05, 0.01, 0, -0.08, 0.01, -0.01], -3),\r\n",
        "([0.02, -0.05, 0.02, 0.02, 0.02, 0.01, 0.04, 0.01, 0.01, 0.01, 0.01, 0.05, -0.02, 0.01, 0.1, 0.01, -0.05, 0.09, 0.01, 2.14, -0.11, 0.01, 0.14, 0.04, -0.05, 0.05, 0.03], -4),\r\n",
        "([0, 0.06, 0, 0, -0.02, -0.06, 0.06, -0.03, -0.02, -0.05, -0.04, 0.16, 0.01, 0, -0.03, -0.03, -0.04, 0.1, 0.02, -0.01, 0.01, 0, 0.04, -0.01, 0.06, -0.02, 0], -3),\r\n",
        "([0.02, -0.03, 0.02, 0.02, 0.01, -0.01, 0.04, 0, 0, -0.02, -0.01, 0.03, 0.05, 0.01, -0.19, -0.04, 0.06, 0.03, 0.1, -0.98, 0.22, 0.02, 0.06, 0.03, -0.03, 0.04, 0.02], -6),\r\n",
        "([0.06, -0.14, 0.05, 0.06, 0.08, 0.07, 0.11, 0.08, 0, 0.01, 0, -0.06, 0.05, 0.08, 0.48, 0.16, -0.01, 0.04, 0.06, 31.31, -0.02, 0.07, 0.15, 0.06, -0.14, 0.1, 0.04], -11),\r\n",
        "([0.02, -0.11, 0.02, 0.02, 0, 0.01, -0.03, 0, 0.02, 0, 0, 0.02, 0.16, 0.03, 0.02, 0.04, 0.05, 0.01, 0.01, -0.04, -0.02, -0.02, 0.06, 0.02, -0.11, 0.04, 0.01], -11),\r\n",
        "([0.03, -0.16, 0.02, 0.03, 0.02, 0.06, -0.05, 0.04, 0.02, 0.02, 0.02, 0.06, -0.01, 0.01, 0.15, 0.05, -0.03, -0.03, 0.1, -0.46, 0.13, 0.08, 0.1, 0.06, -0.16, 0.09, 0.04], -19),\r\n",
        "]"
      ],
      "execution_count": 186,
      "outputs": []
    },
    {
      "cell_type": "code",
      "metadata": {
        "colab": {
          "base_uri": "https://localhost:8080/",
          "height": 513
        },
        "id": "MC-uK0ECfOG2",
        "outputId": "89156a23-2a3b-4635-ae84-b1cd5f1fb1b9"
      },
      "source": [
        "plb.plot(list_x1)\r\n",
        "plb.show()\r\n",
        "plb.plot(list_y1)\r\n",
        "plb.show()"
      ],
      "execution_count": 187,
      "outputs": [
        {
          "output_type": "display_data",
          "data": {
            "image/png": "[encoded data removed]",
            "text/plain": [
              "<Figure size 432x288 with 1 Axes>"
            ]
          },
          "metadata": {
            "tags": [],
            "needs_background": "light"
          }
        },
        {
          "output_type": "display_data",
          "data": {
            "image/png": "[encoded data removed]",
            "text/plain": [
              "<Figure size 432x288 with 1 Axes>"
            ]
          },
          "metadata": {
            "tags": [],
            "needs_background": "light"
          }
        }
      ]
    },
    {
      "cell_type": "code",
      "metadata": {
        "colab": {
          "base_uri": "https://localhost:8080/"
        },
        "id": "vHm3xRmsk4--",
        "outputId": "9abc98a4-147d-4443-b430-514513fbf1c8"
      },
      "source": [
        "check_rate = 0.1\r\n",
        "check_rate_amount = 1/check_rate\r\n",
        "check_rate_list = (np.arange(0, 1, check_rate)).tolist()\r\n",
        "print(check_rate_list)"
      ],
      "execution_count": 193,
      "outputs": [
        {
          "output_type": "stream",
          "text": [
            "[0.0, 0.1, 0.2, 0.30000000000000004, 0.4, 0.5, 0.6000000000000001, 0.7000000000000001, 0.8, 0.9]\n"
          ],
          "name": "stdout"
        }
      ]
    },
    {
      "cell_type": "code",
      "metadata": {
        "colab": {
          "base_uri": "https://localhost:8080/"
        },
        "id": "Ul64oUIOVX_k",
        "outputId": "3ad02993-5b02-4652-9683-d721f57aacc5"
      },
      "source": [
        "list_x1 = []\r\n",
        "list_y1 = []\r\n",
        "\r\n",
        "for x in range(len(mysample)):\r\n",
        "    x1 = mysample[x][0][0]\r\n",
        "    list_x1.append(x1)\r\n",
        "    x1 = []\r\n",
        "\r\n",
        "for y in range(len(mysample)):\r\n",
        "    y1 = mysample[y][1]\r\n",
        "    list_y1.append(y1)\r\n",
        "    y1 = []\r\n",
        "\r\n",
        "r2 = linregress(list_x1, list_y1)[2]\r\n",
        "\r\n",
        "print(list_x1)\r\n",
        "print(list_y1)\r\n",
        "print(r2)"
      ],
      "execution_count": 189,
      "outputs": [
        {
          "output_type": "stream",
          "text": [
            "[-0.01, 0, -0.04, -0.01, -0.07, 0.04, 0, 0, 0.02, 0.02, 0, 0.02, 0.06, 0.02, 0.03]\n",
            "[10, 4, 23, 24, 23, 4, 5, 0, -3, -4, -3, -6, -11, -11, -19]\n",
            "-0.8001472057642256\n"
          ],
          "name": "stdout"
        }
      ]
    },
    {
      "cell_type": "code",
      "metadata": {
        "colab": {
          "base_uri": "https://localhost:8080/"
        },
        "id": "z_C0Qlf5nENc",
        "outputId": "5d3c4027-19eb-4ebc-841b-4b0826ce59c5"
      },
      "source": [
        "print(max(list_x1))\r\n",
        "print(min(list_x1))\r\n",
        "\r\n",
        "coef = max(np.abs(list_x1).tolist())/check_rate_amount\r\n",
        "print()\r\n",
        "\r\n",
        "print(coef)"
      ],
      "execution_count": 190,
      "outputs": [
        {
          "output_type": "stream",
          "text": [
            "0.06\n",
            "-0.07\n",
            "\n",
            "0.007000000000000001\n"
          ],
          "name": "stdout"
        }
      ]
    },
    {
      "cell_type": "code",
      "metadata": {
        "colab": {
          "base_uri": "https://localhost:8080/"
        },
        "id": "wznCin9vqvx-",
        "outputId": "cfb850ca-87b1-4f15-fe3b-d05f4ed7767c"
      },
      "source": [
        "print(check_rate_list)"
      ],
      "execution_count": 191,
      "outputs": [
        {
          "output_type": "stream",
          "text": [
            "[0.0, 0.1, 0.2, 0.30000000000000004, 0.4, 0.5, 0.6000000000000001, 0.7000000000000001, 0.8, 0.9]\n"
          ],
          "name": "stdout"
        }
      ]
    },
    {
      "cell_type": "code",
      "metadata": {
        "colab": {
          "base_uri": "https://localhost:8080/",
          "height": 163
        },
        "id": "devfmvGbtN9K",
        "outputId": "8d66e8e9-1c21-4de6-8eed-54c0894c4286"
      },
      "source": [
        "check_rate_list*coef"
      ],
      "execution_count": 192,
      "outputs": [
        {
          "output_type": "error",
          "ename": "TypeError",
          "evalue": "ignored",
          "traceback": [
            "\u001b[0;31m---------------------------------------------------------------------------\u001b[0m",
            "\u001b[0;31mTypeError\u001b[0m                                 Traceback (most recent call last)",
            "\u001b[0;32m<ipython-input-192-92f60809b2da>\u001b[0m in \u001b[0;36m<module>\u001b[0;34m()\u001b[0m\n\u001b[0;32m----> 1\u001b[0;31m \u001b[0mcheck_rate_list\u001b[0m\u001b[0;34m*\u001b[0m\u001b[0mcoef\u001b[0m\u001b[0;34m\u001b[0m\u001b[0;34m\u001b[0m\u001b[0m\n\u001b[0m",
            "\u001b[0;31mTypeError\u001b[0m: can't multiply sequence by non-int of type 'float'"
          ]
        }
      ]
    }
  ]
}