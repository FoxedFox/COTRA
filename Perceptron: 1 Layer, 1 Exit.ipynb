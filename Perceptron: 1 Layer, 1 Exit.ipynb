{
  "nbformat": 4,
  "nbformat_minor": 0,
  "metadata": {
    "colab": {
      "name": "COTRnA v.1.1",
      "provenance": [],
      "collapsed_sections": [
        "U68nOV2wf9Bw",
        "QEylvLTm9Zdf",
        "KDKsl6Q075cy",
        "SsgRGhdH8N-5",
        "cHFHwBwnlYmK",
        "yxKkEw9e8Uh7"
      ],
      "authorship_tag": "ABX9TyMWatdOM7XSj3IhALIKFDia",
      "include_colab_link": true
    },
    "kernelspec": {
      "name": "python3",
      "display_name": "Python 3"
    }
  },
  "cells": [
    {
      "cell_type": "markdown",
      "metadata": {
        "id": "view-in-github",
        "colab_type": "text"
      },
      "source": [
        "<a href=\"https://colab.research.google.com/github/ForestTiger-GH/COTRA/blob/main/COTRnA_v_1_1.ipynb\" target=\"_parent\"><img src=\"https://colab.research.google.com/assets/colab-badge.svg\" alt=\"Open In Colab\"/></a>"
      ]
    },
    {
      "cell_type": "markdown",
      "metadata": {
        "id": "RkoU4N4sY4RV"
      },
      "source": [
        "# Нейронная сеть для обработки **предварительно подготовленных** данных\r\n",
        "\r\n",
        "Тестовая выборка зациклена"
      ]
    },
    {
      "cell_type": "markdown",
      "metadata": {
        "id": "U68nOV2wf9Bw"
      },
      "source": [
        "# Импорт библиотек"
      ]
    },
    {
      "cell_type": "code",
      "metadata": {
        "id": "lm2Z5BY-gBLJ"
      },
      "source": [
        "import numpy as np                                                                # Для операция с массивами и векторами\r\n",
        "import sys                                                                        # Для печати на экран\r\n",
        "import pylab                                                                      # Для построения графиков"
      ],
      "execution_count": 91,
      "outputs": []
    },
    {
      "cell_type": "markdown",
      "metadata": {
        "id": "QEylvLTm9Zdf"
      },
      "source": [
        "# Ввод параметров"
      ]
    },
    {
      "cell_type": "code",
      "metadata": {
        "id": "yVN3IzvP9ePY"
      },
      "source": [
        "name1 = (\"COT Reports Neural Analysis\")                                           # Описание статистики из базы СОТ\r\n",
        "name2 = (\"Wheat Futures\")\r\n",
        "name3 = (\"Рандомные данные\")\r\n",
        "comment1 = (\"Тест\")\r\n",
        "name4 = (\"Случайно\")\r\n",
        "dateEdu = (\"--\")\r\n",
        "dateTest = (\"--\")\r\n",
        "\r\n",
        "enter_neurons = int(6)                                                           # Количество переменных. И количество входных значений к каждому нейрону скрытого слоя.\r\n",
        "\r\n",
        "hidden_neurons = int(2)                                                          # Количество нейронов скрытого слоя. И количество входных значений к выходному слою.\r\n",
        "\r\n",
        "exit_neurons = int(1)                                                             # Количество выходных нейронов (НЕ МЕНЯТЬ)\r\n",
        "\r\n",
        "epochs = int(1000)                                                                 # Количество эпох для обучения\r\n",
        "\r\n",
        "learning_rate = 0.03                                                              # Скорость обучения (схождения сети)"
      ],
      "execution_count": 92,
      "outputs": []
    },
    {
      "cell_type": "markdown",
      "metadata": {
        "id": "eW_c-YVv7wHt"
      },
      "source": [
        "# Функции"
      ]
    },
    {
      "cell_type": "markdown",
      "metadata": {
        "id": "3mXD_72sz9CE"
      },
      "source": [
        "**Объект class**\r\n",
        "\r\n",
        "init - конструктор\r\n",
        "\r\n",
        "sigmoid - сигмоидная функция активации\r\n",
        "\r\n",
        "predict - метод прямого распространения, то есть прямой ход функции\r\n",
        "\r\n",
        "train - обратное распространение, коррекция весов"
      ]
    },
    {
      "cell_type": "code",
      "metadata": {
        "id": "yQjxwTBdjjLc"
      },
      "source": [
        "class PartyNN(object):\r\n",
        "\r\n",
        "    def __init__(self, learning_rate=0.1):\r\n",
        "\r\n",
        "        self.weights_0_1 = np.random.normal(0.0, 2 ** -0.5, (hidden_neurons, enter_neurons))     # Веса от входного слоя к первому скрытому; изначально - случайные\r\n",
        "\r\n",
        "        self.weights_1_2 = np.random.normal(0.0, 1, (exit_neurons, hidden_neurons))              # Веса от первого скрытого слоя к выходному; изначально - случайные\r\n",
        "\r\n",
        "        self.sigmoid_mapper = np.vectorize(self.sigmoid)                         # Векторизация функции активации - сигмоиды\r\n",
        "        self.learning_rate = np.array([learning_rate])                           # Преобразование коэф. скорости обучения в массив\r\n",
        "\r\n",
        "    def sigmoid(self, x):\r\n",
        "        return 1 / (1 + np.exp(-x))                                              # Функция активация - сигмоида\r\n",
        "\r\n",
        "    def predict(self, inputs):                                                   # PREDICT используется для Прямого хода - функция просто выдает конечный результат, без корректировки весов\r\n",
        "                                                                                 # Обработка на скрытом слое:\r\n",
        "        inputs_1 = np.dot(self.weights_0_1, inputs)                                 # Умножение входных данных на веса скрытого слоя\r\n",
        "        outputs_1 = self.sigmoid_mapper(inputs_1)                                   # Преобразование полученных чисел по функции сигмоиды\r\n",
        "                                                                                 # Обработка на выходном слое:\r\n",
        "        inputs_2 = np.dot(self.weights_1_2, outputs_1)                              # Умножение данных со скрытого слоя на веса выходного слоя\r\n",
        "        outputs_2 = self.sigmoid_mapper(inputs_2)                                   # Преобразование полученных чисел по функции сигмоиды\r\n",
        "        return outputs_2                                                            # Вывод итогового значения \r\n",
        "\r\n",
        "    def train(self, inputs, expected_predict):                                   # TRAIN включает также Обратный ход и обучает сеть - вторая половина функции корректирует веса\r\n",
        "        inputs_1 = np.dot(self.weights_0_1, inputs)                              # Эта часть функции как в Предикте\r\n",
        "        outputs_1 = self.sigmoid_mapper(inputs_1)\r\n",
        "\r\n",
        "        inputs_2 = np.dot(self.weights_1_2, outputs_1)\r\n",
        "        outputs_2 = self.sigmoid_mapper(inputs_2)\r\n",
        "        actual_predict = outputs_2[0]                                            # Вывод итогового значения и прикрепление его к переменной\r\n",
        "\r\n",
        "        error_layer_2 = np.array([actual_predict - expected_predict])            # Расчет ошибки ВЫХОДНОГО слоя - сравнение расчетных итогов и реальных \r\n",
        "        gradient_layer_2 = actual_predict * (1 - actual_predict)                 # Преобразование итоговых значений по формуле дифференциала \r\n",
        "        weights_delta_layer_2 = error_layer_2 * gradient_layer_2                 # Расчет дельты выходного слоя - перемножение ошибки и дифференцированных итоговых значений\r\n",
        "\r\n",
        "                                                                                 # Далее КОРРЕКТИРОВКА весов ВЫХОДНОГО слоя\r\n",
        "        self.weights_1_2 -= (np.dot(weights_delta_layer_2, outputs_1.reshape(1, len(outputs_1)))) * self.learning_rate  # Перемножение старых входных данных со скрытого слоя на дельту и на скорость обучения\r\n",
        "\r\n",
        "        error_layer_1 = weights_delta_layer_2 * self.weights_1_2                 # Расчет ошибки СКРЫТОГО слоя - перемножение НОВЫХ весов выходного слоя на дельту\r\n",
        "        gradient_layer_1 = outputs_1 * (1-outputs_1)                             # Преобразование по формуле дифференциала\r\n",
        "        weights_delta_layer_1 = error_layer_1 *gradient_layer_1                  # Расчет дельты скрытого слоя\r\n",
        "                                                                                 # Далее КОРРЕКТИРОВКА весов СКРЫТОГО слоя\r\n",
        "        self.weights_0_1 -= np.dot(inputs.reshape(len(inputs), 1), weights_delta_layer_1).T * self.learning_rate         # Перемножение ВХОДНЫХ данных на дельту скрытого слоя и на скорость обучения\r\n"
      ],
      "execution_count": 93,
      "outputs": []
    },
    {
      "cell_type": "code",
      "metadata": {
        "id": "99H9RGStp2FU"
      },
      "source": [
        "def MSE (y, Y):                                                                   # Функция ошибки - среднеквадратичное отклонение (Minimum Square Error)\r\n",
        "    return np.mean((y-Y)**2)"
      ],
      "execution_count": 94,
      "outputs": []
    },
    {
      "cell_type": "markdown",
      "metadata": {
        "id": "KDKsl6Q075cy"
      },
      "source": [
        "# Обучающая выборка"
      ]
    },
    {
      "cell_type": "code",
      "metadata": {
        "id": "ExWz67OsqHvN"
      },
      "source": [
        "train = [\r\n",
        "([0, 0, 0, 0, 0, 1], 0),\r\n",
        "([1, 0, 0, 0, 0, 1], 0),\r\n",
        "([1, 0, 1, 1, 1, 0], 0),\r\n",
        "([1, 0, 1, 1, 1, 1], 1),\r\n",
        "([1, 0, 1, 1, 0, 0], 1),\r\n",
        "([1, 1, 1, 1, 1, 1], 0),\r\n",
        "([0, 1, 0, 0, 0, 1], 0),\r\n",
        "([0, 0, 0, 1, 1, 1], 1),\r\n",
        "([1, 0, 0, 1, 1, 1], 1),\r\n",
        "([1, 1, 0, 0, 0, 0], 0),\r\n",
        "]"
      ],
      "execution_count": 95,
      "outputs": []
    },
    {
      "cell_type": "markdown",
      "metadata": {
        "id": "yxKkEw9e8Uh7"
      },
      "source": [
        "# Тестовая выборка"
      ]
    },
    {
      "cell_type": "code",
      "metadata": {
        "id": "rJnSINFFbfFh"
      },
      "source": [
        "testing = [\r\n",
        "([0, 0, 0, 1, 1, 0], 0),\r\n",
        "([1, 1, 1, 1, 1, 1], 1),\r\n",
        "([1, 0, 1, 0, 1, 0], 1),\r\n",
        "([1, 0, 1, 1, 0, 1], 1),\r\n",
        "([0, 0, 0, 0, 0, 0], 0),\r\n",
        "]"
      ],
      "execution_count": 96,
      "outputs": []
    },
    {
      "cell_type": "markdown",
      "metadata": {
        "id": "RYhHOYeZ8FYI"
      },
      "source": [
        "# Обучение сети"
      ]
    },
    {
      "cell_type": "code",
      "metadata": {
        "colab": {
          "base_uri": "https://localhost:8080/"
        },
        "id": "mJLt6leqrIor",
        "outputId": "2afa511a-cc5f-4b6d-cc12-e4fd471895d0"
      },
      "source": [
        "education_error_count = []\r\n",
        "testing_error_count = []\r\n",
        "education_result_count = []\r\n",
        "testing_result_count = []\r\n",
        "\r\n",
        "aaaa = []\r\n",
        "\r\n",
        "network = PartyNN(learning_rate=learning_rate)\r\n",
        "\r\n",
        "for e in range(epochs):\r\n",
        "    inputs_ = []\r\n",
        "    correct_predictions = []\r\n",
        "    for input_stat, correct_predict in train:\r\n",
        "        network.train(np.array(input_stat), correct_predict)\r\n",
        "        inputs_.append(np.array(input_stat))\r\n",
        "        correct_predictions.append(np.array(correct_predict))\r\n",
        "\r\n",
        "    train_loss = MSE(network.predict(np.array(inputs_).T), np.array(correct_predictions))\r\n",
        "    education_error_count.append(train_loss)                                               # Сохранение значения ошибки (на обучающей выборке) на каждом цикле\r\n",
        "\r\n",
        "    llll = np.array(correct_predictions)                                              # Фиктивная переменная для ускорения работы сети в цикле ниже\r\n",
        "    mmmm = network.predict(np.array(inputs_).T)                                       # Фиктивная переменная для ускорения работы сети в цикле ниже\r\n",
        "\r\n",
        "    for i in range(len(llll)):                                                   # Цикл для сохранения значения качества (на обучающей выборке) на каждом цикле\r\n",
        "        if llll[i] != np.around(mmmm[0]).astype(int)[i]:\r\n",
        "            aaaa.append(1)                                                            # Дополнительная переменная\r\n",
        "        else:\r\n",
        "            aaaa.append(0)\r\n",
        "\r\n",
        "    bbbb = 1-sum(aaaa)/len(np.around(mmmm[0]).astype(int))                            # Дополнительная переменная\r\n",
        "    education_result_count.append(bbbb)                                                    # Сохранение значения ошибки (на обучающей выборке) на каждом цикле\r\n",
        "    aaaa =[]                                                                     # Сброс дополнительной переменной\r\n",
        "\r\n",
        "\r\n",
        "    ddd = []\r\n",
        "    fff =[]\r\n",
        "    ggg = []\r\n",
        "    hhh = []\r\n",
        "    for input_stat, correct_predict in testing:                                       # Цикл по тестовой выборке\r\n",
        "        if network.predict(np.array(input_stat))>.5:                                  # Расчет Прогнозных значений по функции Предикта. Далее оценивается - полученное значение больше или меньше 0,5\r\n",
        "            ddd.append(1)                                                                   # Если больше - создается список и в него вносит результат как TRUE (по сути это как округление - можно упростить)\r\n",
        "        else:\r\n",
        "            ddd.append(0)                                                                   # Если меньше - как False \r\n",
        "\r\n",
        "        if correct_predict == 1:                                                      # В аналогичный список на каждом цикле сводятся Реальные итоговое значения\r\n",
        "            fff.append(1)\r\n",
        "        else:\r\n",
        "            fff.append(0)\r\n",
        "\r\n",
        "    for j in range(len(fff)):                                                         # Цикл для сравнения двух полученных списков - прогнозных и реальных значений\r\n",
        "        if ddd[j] != fff[j]:\r\n",
        "            ggg.append(1)                                                             # Если значения отличаются - в новый список подается Единица\r\n",
        "        else:\r\n",
        "            ggg.append(0)                                                             # Если ошибок нет - Ноль\r\n",
        "\r\n",
        "    hhh = 1-sum(ggg)/len(fff)                                                         # Расчет итога - сумма полученных Единиц делится на размер списка\r\n",
        "    testing_result_count.append(hhh)\r\n",
        "    testing_loss = MSE(network.predict(np.array(inputs_).T), np.array(correct_predict))\r\n",
        "    testing_error_count.append(testing_loss)\r\n",
        "\r\n",
        "    sys.stdout.write(\"\\rProgress: {}    |    Education loss: {}        Testing Loss: {}        Education Result: {}        Testing Result: {}\".format(\r\n",
        "        str(100*e/float(epochs))[:4], \r\n",
        "        str(train_loss)[:6],\r\n",
        "        str(testing_loss)[:6],\r\n",
        "        str(bbbb*100) [:5],\r\n",
        "        str(hhh*100)[:5]\r\n",
        "        ))\r\n",
        "\r\n",
        "testing_result = hhh*100                                                          # Сохранение результатов\r\n",
        "testing_sample_size = len(testing)\r\n",
        "\r\n",
        "education_progress = 100*e/float(epochs)                                         # Сохранение итоговых результатов\r\n",
        "education_loss = train_loss\r\n",
        "education_result = bbbb*100\r\n",
        "education_sample_size = len(np.array(correct_predictions))"
      ],
      "execution_count": 97,
      "outputs": [
        {
          "output_type": "stream",
          "text": [
            "Progress: 99.9    |    Education loss: 0.1169        Testing Loss: 0.2678        Education Result: 90.0        Testing Result: 19.99"
          ],
          "name": "stdout"
        }
      ]
    },
    {
      "cell_type": "markdown",
      "metadata": {
        "id": "SsgRGhdH8N-5"
      },
      "source": [
        "# Вывод итоговых значений по обучающей выборке"
      ]
    },
    {
      "cell_type": "markdown",
      "metadata": {
        "id": "SWhmCgbB2XFC"
      },
      "source": [
        "**Вывод результатов True/False** (округленных коэффициентов выходного нейрона)"
      ]
    },
    {
      "cell_type": "code",
      "metadata": {
        "id": "2BS0vdAUwDkZ",
        "colab": {
          "base_uri": "https://localhost:8080/"
        },
        "outputId": "f1e57e04-0e87-4653-b1f1-a18d9fe52b61"
      },
      "source": [
        "for input_stat, correct_predict in train:\r\n",
        "    print(\"For input: {} the prediction is: {}, expected: {}\".format(\r\n",
        "        str(input_stat),\r\n",
        "        str(network.predict(np.array(input_stat)) > .5),\r\n",
        "        str(correct_predict == 1)))"
      ],
      "execution_count": 98,
      "outputs": [
        {
          "output_type": "stream",
          "text": [
            "For input: [0, 0, 0, 0, 0, 1] the prediction is: [False], expected: False\n",
            "For input: [1, 0, 0, 0, 0, 1] the prediction is: [False], expected: False\n",
            "For input: [1, 0, 1, 1, 1, 0] the prediction is: [ True], expected: False\n",
            "For input: [1, 0, 1, 1, 1, 1] the prediction is: [ True], expected: True\n",
            "For input: [1, 0, 1, 1, 0, 0] the prediction is: [ True], expected: True\n",
            "For input: [1, 1, 1, 1, 1, 1] the prediction is: [False], expected: False\n",
            "For input: [0, 1, 0, 0, 0, 1] the prediction is: [False], expected: False\n",
            "For input: [0, 0, 0, 1, 1, 1] the prediction is: [ True], expected: True\n",
            "For input: [1, 0, 0, 1, 1, 1] the prediction is: [ True], expected: True\n",
            "For input: [1, 1, 0, 0, 0, 0] the prediction is: [False], expected: False\n"
          ],
          "name": "stdout"
        }
      ]
    },
    {
      "cell_type": "markdown",
      "metadata": {
        "id": "i0XImA_G21A2"
      },
      "source": [
        "**Вывод неокругленных коэффициентов выходного нейрона**"
      ]
    },
    {
      "cell_type": "code",
      "metadata": {
        "id": "f7C3omeXxROR",
        "colab": {
          "base_uri": "https://localhost:8080/"
        },
        "outputId": "d876aee1-3cfa-4356-96fe-b10fa97df711"
      },
      "source": [
        "for input_stat, correct_predict in train:\r\n",
        "    print(\"For input: {} the prediction is: {}, expected: {}\".format(\r\n",
        "        str(input_stat),\r\n",
        "        str(network.predict(np.array(input_stat))),\r\n",
        "        str(correct_predict == 1)))"
      ],
      "execution_count": 99,
      "outputs": [
        {
          "output_type": "stream",
          "text": [
            "For input: [0, 0, 0, 0, 0, 1] the prediction is: [0.26796092], expected: False\n",
            "For input: [1, 0, 0, 0, 0, 1] the prediction is: [0.20195854], expected: False\n",
            "For input: [1, 0, 1, 1, 1, 0] the prediction is: [0.72565599], expected: False\n",
            "For input: [1, 0, 1, 1, 1, 1] the prediction is: [0.59897066], expected: True\n",
            "For input: [1, 0, 1, 1, 0, 0] the prediction is: [0.68345047], expected: True\n",
            "For input: [1, 1, 1, 1, 1, 1] the prediction is: [0.29791999], expected: False\n",
            "For input: [0, 1, 0, 0, 0, 1] the prediction is: [0.12489201], expected: False\n",
            "For input: [0, 0, 0, 1, 1, 1] the prediction is: [0.76958928], expected: True\n",
            "For input: [1, 0, 0, 1, 1, 1] the prediction is: [0.70253772], expected: True\n",
            "For input: [1, 1, 0, 0, 0, 0] the prediction is: [0.15362616], expected: False\n"
          ],
          "name": "stdout"
        }
      ]
    },
    {
      "cell_type": "markdown",
      "metadata": {
        "id": "cHFHwBwnlYmK"
      },
      "source": [
        "# Вывод полученных весов"
      ]
    },
    {
      "cell_type": "code",
      "metadata": {
        "colab": {
          "base_uri": "https://localhost:8080/"
        },
        "id": "HGlFf80ryYU9",
        "outputId": "5608e6ff-2425-4c15-f3f1-2c31774acd4b"
      },
      "source": [
        "print(\"Веса скрытого слоя:\")\r\n",
        "print()\r\n",
        "print(network.weights_0_1)\r\n",
        "print()\r\n",
        "print(\"Веса выходного слоя:\")\r\n",
        "print()\r\n",
        "print(network.weights_1_2)"
      ],
      "execution_count": 100,
      "outputs": [
        {
          "output_type": "stream",
          "text": [
            "Веса скрытого слоя:\n",
            "\n",
            "[[-0.40718144 -2.10812249  0.54545547  1.32259962  1.67447261 -0.95823811]\n",
            " [ 0.36300655  0.78005507  1.07650617 -1.39364505  0.26992346  0.76282347]]\n",
            "\n",
            "Веса выходного слоя:\n",
            "\n",
            "[[ 2.52324984 -2.4994135 ]]\n"
          ],
          "name": "stdout"
        }
      ]
    },
    {
      "cell_type": "markdown",
      "metadata": {
        "id": "h8UAQNpN9BCx"
      },
      "source": [
        "# Сводка параметров и результатов"
      ]
    },
    {
      "cell_type": "code",
      "metadata": {
        "colab": {
          "base_uri": "https://localhost:8080/",
          "height": 987
        },
        "id": "Dm_NTQwz83Mk",
        "outputId": "092d2d9e-c314-44b9-b24c-05dbfb18f72d"
      },
      "source": [
        "print()\r\n",
        "print(\"            {}                {}\".format(\r\n",
        "    str(name1),\r\n",
        "    str(name2)\r\n",
        "    ))\r\n",
        "print()\r\n",
        "print(\"ПАРАМЕТРЫ\")\r\n",
        "print('-----------------------------------------------------------------------------')\r\n",
        "print(\"{} переменных    ->    {} нейронов скрытого слоя    ->    {} выходной нейрон\".format(\r\n",
        "      str(enter_neurons),\r\n",
        "      str(hidden_neurons),\r\n",
        "      str(exit_neurons)\r\n",
        "))\r\n",
        "print()\r\n",
        "print(\"{}                             {}\".format(\r\n",
        "    str(name3), \r\n",
        "    str(name4)\r\n",
        "))\r\n",
        "print(comment1)\r\n",
        "print('-----------------------------------------------------------------------------')\r\n",
        "print(\"Эпох для обучения:       {}\".format(str(epochs)))\r\n",
        "print(\"Скорость обучения:       {}\".format(str(learning_rate)))\r\n",
        "print()\r\n",
        "print(\"Примеров для обучения:   {}        {}\".format(\r\n",
        "    str(education_sample_size),\r\n",
        "    str(dateEdu)\r\n",
        "))\r\n",
        "print(\"Примеров для теста:      {}        {}\".format(\r\n",
        "    str(testing_sample_size),\r\n",
        "    str(dateTest)\r\n",
        "))\r\n",
        "print('-----------------------------')\r\n",
        "print()\r\n",
        "print(\"РЕЗУЛЬТАТЫ\")\r\n",
        "print('----------------------------------------')\r\n",
        "print(\"Прогресс обучения:               {} %\".format(str(education_progress)[:5]))\r\n",
        "print(\"Квадрат ошибки:                   {}\".format(str(education_loss)[:5]))\r\n",
        "print()\r\n",
        "print(\"Качество на обучающей выборке:   {} %\".format(str(education_result)[:4]))\r\n",
        "print(\"Качество на тестовой выборке:    {} %\".format(str(testing_result)[:4]))\r\n",
        "print('----------------------------------------')\r\n",
        "print()\r\n",
        "pylab.plot(education_result_count)\r\n",
        "pylab.plot(testing_result_count)\r\n",
        "pylab.ylim(bottom=0)\r\n",
        "pylab.title('Качество на обучающей и тестовой выборке')\r\n",
        "pylab.show()\r\n",
        "pylab.plot(education_error_count)\r\n",
        "pylab.plot(testing_error_count)\r\n",
        "pylab.ylim(bottom=0)\r\n",
        "pylab.title('Квадрат ошибки на обучающей и тестовой выборке')\r\n",
        "pylab.show()"
      ],
      "execution_count": 101,
      "outputs": [
        {
          "output_type": "stream",
          "text": [
            "\n",
            "            COT Reports Neural Analysis                Wheat Futures\n",
            "\n",
            "ПАРАМЕТРЫ\n",
            "-----------------------------------------------------------------------------\n",
            "6 переменных    ->    2 нейронов скрытого слоя    ->    1 выходной нейрон\n",
            "\n",
            "Рандомные данные                             Случайно\n",
            "Тест\n",
            "-----------------------------------------------------------------------------\n",
            "Эпох для обучения:       1000\n",
            "Скорость обучения:       0.03\n",
            "\n",
            "Примеров для обучения:   10        --\n",
            "Примеров для теста:      5        --\n",
            "-----------------------------\n",
            "\n",
            "РЕЗУЛЬТАТЫ\n",
            "----------------------------------------\n",
            "Прогресс обучения:               99.9 %\n",
            "Квадрат ошибки:                   0.116\n",
            "\n",
            "Качество на обучающей выборке:   90.0 %\n",
            "Качество на тестовой выборке:    19.9 %\n",
            "----------------------------------------\n",
            "\n"
          ],
          "name": "stdout"
        },
        {
          "output_type": "display_data",
          "data": {
            "image/png": "[encoded data removed]",
            "text/plain": [
              "<Figure size 432x288 with 1 Axes>"
            ]
          },
          "metadata": {
            "tags": [],
            "needs_background": "light"
          }
        },
        {
          "output_type": "display_data",
          "data": {
            "image/png": "[encoded data removed]",
            "text/plain": [
              "<Figure size 432x288 with 1 Axes>"
            ]
          },
          "metadata": {
            "tags": [],
            "needs_background": "light"
          }
        }
      ]
    }
  ]
}
